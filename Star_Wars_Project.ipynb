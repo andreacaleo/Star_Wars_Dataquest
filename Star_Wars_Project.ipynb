{
 "cells": [
  {
   "cell_type": "markdown",
   "metadata": {},
   "source": [
    "### Synopsis: this is work done on a challenge from DataQuest. The analysis is basis on a survey on Star Wars to answer the question: which Star Wars movie does the public like most?\n",
    "\n",
    "### The analysis will show that the 5th movie is the most liked of all, both among people who self-identify as Star Wars fans and people who do not. Among people who do not, it is also the movie that's been seen the most."
   ]
  },
  {
   "cell_type": "code",
   "execution_count": 21,
   "metadata": {
    "collapsed": false
   },
   "outputs": [
    {
     "name": "stdout",
     "output_type": "stream",
     "text": [
      "ranking_1    3.732934\n",
      "ranking_2    4.087321\n",
      "ranking_3    4.341317\n",
      "ranking_4    3.272727\n",
      "ranking_5    2.513158\n",
      "ranking_6    3.047847\n",
      "dtype: float64\n"
     ]
    },
    {
     "data": {
      "text/plain": [
       "<matplotlib.text.Text at 0x2a5bbac24a8>"
      ]
     },
     "execution_count": 21,
     "metadata": {},
     "output_type": "execute_result"
    },
    {
     "data": {
      "image/png": "[encoded data removed]",
      "text/plain": [
       "<matplotlib.figure.Figure at 0x2a5bb982588>"
      ]
     },
     "metadata": {},
     "output_type": "display_data"
    }
   ],
   "source": [
    "#Import libraries, load data.\n",
    "import numpy as np\n",
    "import matplotlib.pyplot as plt\n",
    "import pandas as pd\n",
    "%matplotlib inline\n",
    "\n",
    "star_wars = pd.read_csv(\"star_wars.csv\", encoding=\"ISO-8859-1\")\n",
    "\n",
    "#Remove rows in which \"RespondentID\" is NaN.\n",
    "star_wars = star_wars[pd.notnull(star_wars[\"RespondentID\"])]\n",
    "\n",
    "#Transform column into boolean; I have checked that all values are \"Yes\" / \"No\".\n",
    "star_wars[\"Have you seen any of the 6 films in the Star Wars franchise?\"] = (\n",
    "    star_wars[\"Have you seen any of the 6 films in the Star Wars franchise?\"] == \"Yes\"\n",
    ")\n",
    "\n",
    "\n",
    "#Transform another column int boolean; this column contains \"Yes\", \"No\" and \"NaN\" values.\n",
    "def make_boolean(x):\n",
    "    if x == \"Yes\":\n",
    "        return(True)\n",
    "    elif x == \"No\":\n",
    "        return(False)\n",
    "    else:\n",
    "        return(np.NaN)\n",
    "\n",
    "star_wars[\"Do you consider yourself to be a fan of the Star Wars film franchise?\"] = (\n",
    "    star_wars[\"Do you consider yourself to be a fan of the Star Wars film franchise?\"].map(make_boolean)\n",
    ")\n",
    "\n",
    "#Transform columns with film names into booleans; these columns contain just the film names and NaNs.\n",
    "star_wars.iloc[:,3:9] = pd.notnull(star_wars.iloc[:,3:9])\n",
    "\n",
    "#Rename columns with film names.\n",
    "star_wars = star_wars.rename(columns={\n",
    "    \"Which of the following Star Wars films have you seen? Please select all that apply.\": \"seen_1\",\n",
    "    \"Unnamed: 4\": \"seen_2\",\n",
    "    \"Unnamed: 5\": \"seen_3\",\n",
    "    \"Unnamed: 6\": \"seen_4\",\n",
    "    \"Unnamed: 7\": \"seen_5\",\n",
    "    \"Unnamed: 8\": \"seen_6\",\n",
    "})\n",
    "\n",
    "#Change ranking values to float type.\n",
    "star_wars[star_wars.columns[9:15]] = star_wars[star_wars.columns[9:15]].astype(float)\n",
    "\n",
    "#Rename columns with film names.\n",
    "star_wars = star_wars.rename(columns={\n",
    "    \"Please rank the Star Wars films in order of preference with 1 being your favorite film in the franchise and 6 being your least favorite film.\": \"ranking_1\",\n",
    "    \"Unnamed: 10\": \"ranking_2\",\n",
    "    \"Unnamed: 11\": \"ranking_3\",\n",
    "    \"Unnamed: 12\": \"ranking_4\",\n",
    "    \"Unnamed: 13\": \"ranking_5\",\n",
    "    \"Unnamed: 14\": \"ranking_6\",\n",
    "})\n",
    "\n",
    "#Calculate the mean ranking by column.\n",
    "ranking_columns = [\"ranking_1\", \"ranking_2\", \"ranking_3\", \"ranking_4\", \"ranking_5\", \"ranking_6\"]\n",
    "print(star_wars[ranking_columns].mean())\n",
    "plt.bar(left=-0.35+np.arange(1,7), height=star_wars[ranking_columns].mean())\n",
    "plt.xlabel(\"movie\")\n",
    "plt.ylabel(\"mean ranking\")"
   ]
  },
  {
   "cell_type": "markdown",
   "metadata": {},
   "source": [
    "### The 5th movie has the lower mean ranking score, which means it's the most appreciated by the audience."
   ]
  },
  {
   "cell_type": "code",
   "execution_count": 22,
   "metadata": {
    "collapsed": false
   },
   "outputs": [
    {
     "name": "stdout",
     "output_type": "stream",
     "text": [
      "seen_1    673\n",
      "seen_2    571\n",
      "seen_3    550\n",
      "seen_4    607\n",
      "seen_5    758\n",
      "seen_6    738\n",
      "dtype: int64\n"
     ]
    },
    {
     "data": {
      "text/plain": [
       "<matplotlib.text.Text at 0x2a5bd990a90>"
      ]
     },
     "execution_count": 22,
     "metadata": {},
     "output_type": "execute_result"
    },
    {
     "data": {
      "image/png": "[encoded data removed]",
      "text/plain": [
       "<matplotlib.figure.Figure at 0x2a5bbc4e2e8>"
      ]
     },
     "metadata": {},
     "output_type": "display_data"
    }
   ],
   "source": [
    "#Calculate the sum of viewers by column.\n",
    "seen_columns = [\"seen_1\", \"seen_2\",\"seen_3\",\"seen_4\",\"seen_5\",\"seen_6\"]\n",
    "print(star_wars[seen_columns].sum())\n",
    "plt.bar(left=-0.35+np.arange(1,7), height=star_wars[seen_columns].mean())\n",
    "plt.xlabel(\"movie\")\n",
    "plt.ylabel(\"number of viewers\")"
   ]
  },
  {
   "cell_type": "markdown",
   "metadata": {},
   "source": [
    "### The 5th movie has been seen by the most people. We also note that the 3rd movie, which was the least favourite, has been seen by the fewest people. There seems to be a clear correlation between the number of viewers and the mean rating."
   ]
  },
  {
   "cell_type": "code",
   "execution_count": 33,
   "metadata": {
    "collapsed": false
   },
   "outputs": [
    {
     "data": {
      "image/png": "[encoded data removed]",
      "text/plain": [
       "<matplotlib.figure.Figure at 0x2a5bda20898>"
      ]
     },
     "metadata": {},
     "output_type": "display_data"
    }
   ],
   "source": [
    "#Distinguish fans and not fans (NOTE: A FEW ROWS ARE IN NEITHER OF THE TWO SUB-DATAFRAMES)\n",
    "fans = star_wars[star_wars[\"Do you consider yourself to be a fan of the Star Trek franchise?\"] == \"Yes\"]\n",
    "not_fans = star_wars[star_wars[\"Do you consider yourself to be a fan of the Star Trek franchise?\"] == \"No\"]\n",
    "\n",
    "#Calculate the mean ranking by column among fans.\n",
    "ranking_columns = [\"ranking_1\", \"ranking_2\", \"ranking_3\", \"ranking_4\", \"ranking_5\", \"ranking_6\"]\n",
    "plt.bar(left=-0.35+np.arange(1,7), height=fans[ranking_columns].mean())\n",
    "plt.xlabel(\"movie\")\n",
    "plt.ylabel(\"mean ranking\")\n",
    "plt.show()"
   ]
  },
  {
   "cell_type": "code",
   "execution_count": 34,
   "metadata": {
    "collapsed": false
   },
   "outputs": [
    {
     "data": {
      "image/png": "[encoded data removed]",
      "text/plain": [
       "<matplotlib.figure.Figure at 0x2a5bda8dbe0>"
      ]
     },
     "metadata": {},
     "output_type": "display_data"
    }
   ],
   "source": [
    "#Calculate the mean ranking by column among not fans.\n",
    "ranking_columns = [\"ranking_1\", \"ranking_2\", \"ranking_3\", \"ranking_4\", \"ranking_5\", \"ranking_6\"]\n",
    "plt.bar(left=-0.35+np.arange(1,7), height=not_fans[ranking_columns].mean())\n",
    "plt.xlabel(\"movie\")\n",
    "plt.ylabel(\"mean ranking\")\n",
    "plt.show()"
   ]
  },
  {
   "cell_type": "code",
   "execution_count": 35,
   "metadata": {
    "collapsed": false
   },
   "outputs": [
    {
     "name": "stdout",
     "output_type": "stream",
     "text": [
      "seen_1    673\n",
      "seen_2    571\n",
      "seen_3    550\n",
      "seen_4    607\n",
      "seen_5    758\n",
      "seen_6    738\n",
      "dtype: int64\n"
     ]
    },
    {
     "data": {
      "text/plain": [
       "<matplotlib.text.Text at 0x2a5bdb269b0>"
      ]
     },
     "execution_count": 35,
     "metadata": {},
     "output_type": "execute_result"
    },
    {
     "data": {
      "image/png": "[encoded data removed]",
      "text/plain": [
       "<matplotlib.figure.Figure at 0x2a5bdb10cf8>"
      ]
     },
     "metadata": {},
     "output_type": "display_data"
    }
   ],
   "source": [
    "#Calculate the sum of viewers by column among fans.\n",
    "seen_columns = [\"seen_1\", \"seen_2\",\"seen_3\",\"seen_4\",\"seen_5\",\"seen_6\"]\n",
    "print(star_wars[seen_columns].sum())\n",
    "plt.bar(left=-0.35+np.arange(1,7), height=fans[seen_columns].mean())\n",
    "plt.xlabel(\"movie\")\n",
    "plt.ylabel(\"number of viewers\")"
   ]
  },
  {
   "cell_type": "code",
   "execution_count": 36,
   "metadata": {
    "collapsed": false
   },
   "outputs": [
    {
     "name": "stdout",
     "output_type": "stream",
     "text": [
      "seen_1    673\n",
      "seen_2    571\n",
      "seen_3    550\n",
      "seen_4    607\n",
      "seen_5    758\n",
      "seen_6    738\n",
      "dtype: int64\n"
     ]
    },
    {
     "data": {
      "text/plain": [
       "<matplotlib.text.Text at 0x2a5bdb9e9b0>"
      ]
     },
     "execution_count": 36,
     "metadata": {},
     "output_type": "execute_result"
    },
    {
     "data": {
      "image/png": "[encoded data removed]",
      "text/plain": [
       "<matplotlib.figure.Figure at 0x2a5bda19780>"
      ]
     },
     "metadata": {},
     "output_type": "display_data"
    }
   ],
   "source": [
    "#Calculate the sum of viewers by column among not fans.\n",
    "seen_columns = [\"seen_1\", \"seen_2\",\"seen_3\",\"seen_4\",\"seen_5\",\"seen_6\"]\n",
    "print(star_wars[seen_columns].sum())\n",
    "plt.bar(left=-0.35+np.arange(1,7), height=not_fans[seen_columns].mean())\n",
    "plt.xlabel(\"movie\")\n",
    "plt.ylabel(\"number of viewers\")"
   ]
  },
  {
   "cell_type": "markdown",
   "metadata": {},
   "source": [
    "### The 5th movie is the favourite both among fans and non fans. However, fans have seen the other movies almost as much as the 5th (in particular almost all of them have seen the 5th and 6th), while non fans have seen the 5th movie more frequently than the others."
   ]
  },
  {
   "cell_type": "code",
   "execution_count": null,
   "metadata": {
    "collapsed": true
   },
   "outputs": [],
   "source": []
  }
 ],
 "metadata": {
  "kernelspec": {
   "display_name": "Python 3",
   "language": "python",
   "name": "python3"
  },
  "language_info": {
   "codemirror_mode": {
    "name": "ipython",
    "version": 3
   },
   "file_extension": ".py",
   "mimetype": "text/x-python",
   "name": "python",
   "nbconvert_exporter": "python",
   "pygments_lexer": "ipython3",
   "version": "3.5.1"
  }
 },
 "nbformat": 4,
 "nbformat_minor": 0
}
